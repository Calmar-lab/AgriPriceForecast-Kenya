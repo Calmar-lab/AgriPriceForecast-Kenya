{
 "cells": [
  {
   "cell_type": "markdown",
   "metadata": {},
   "source": [
    "# Kenya Agricultural Market Insights and Forecasting System with Sentiment Analysis Project"
   ]
  },
  {
   "cell_type": "markdown",
   "metadata": {},
   "source": [
    "## BUSINESS UNDERSTANDING"
   ]
  },
  {
   "cell_type": "markdown",
   "metadata": {},
   "source": [
    "### Business Overview\n",
    "Economic and livelihood concerns are critical issues in Kenya, impacting a substantial portion of the population. The agricultural sector, which is a major contributor to Kenya's economy, faces numerous challenges, including price volatility, market inefficiencies, and fluctuating public sentiment. These issues directly affect farmers' and traders' livelihoods, making it essential to develop data-driven solutions to address these concerns.\n"
   ]
  },
  {
   "cell_type": "markdown",
   "metadata": {},
   "source": [
    "##### Stakeholders and Their Gains\n",
    "1. Farmers (Small-Scale & Large-Scale)\n",
    "\n",
    "🔹 Gains:\n",
    "\n",
    "- Informed decisions on when and where to sell their produce for maximum profit.\n",
    "- Insights into seasonal price trends to optimize crop production cycles.\n",
    "- Awareness of public sentiment that may impact market demand.\n",
    "\n",
    "2. Traders & Distributors (Wholesalers & Retailers)\n",
    "\n",
    "🔹 Gains:\n",
    "\n",
    "- Forecasting tools to plan optimal buying and selling times.\n",
    "- Reduction in losses due to unexpected price drops.\n",
    "- Better logistics planning by analyzing regional price variations.\n",
    "\n",
    "3. Policymakers & Government Agencies (Ministry of Agriculture, KNBS, NDMA, etc.)\n",
    "\n",
    "🔹 Gains:\n",
    "\n",
    "- Data-backed policy formulation for price stabilization and market interventions.\n",
    "- Early warning systems for food security and drought preparedness.\n",
    "- Understanding of market inefficiencies to improve agricultural policies.\n",
    "\n",
    "4. Financial Institutions & Investors (Banks, Microfinance Institutions, Agribusiness Investors)\n",
    "\n",
    "🔹 Gains:\n",
    "\n",
    "- Credit risk assessment based on market trends and price stability.\n",
    "- Informed decisions on investing in agriculture-related ventures.\n",
    "- Development of agricultural insurance products based on price volatility analysis.\n",
    "\n",
    "5. Consumers (General Public)\n",
    "\n",
    "🔹 Gains:\n",
    "\n",
    "- Awareness of expected price changes for household budgeting.\n",
    "- More stable prices due to better market efficiency.\n",
    "- Potential for lower food costs as market inefficiencies decrease.\n",
    "\n",
    "6. Researchers & Data Scientists\n",
    "\n",
    "🔹 Gains:\n",
    "\n",
    "- A valuable dataset for further analysis and model improvements.\n",
    "- Opportunities to develop new methodologies for price forecasting and sentiment analysis.\n",
    "- Enhanced understanding of the relationship between social sentiment and economic trends."
   ]
  },
  {
   "cell_type": "markdown",
   "metadata": {},
   "source": [
    "### Problem Statement\n",
    "Kenya's agricultural markets are characterized by significant price fluctuations across different regions and commodities. Factors such as seasonal variations, market demand, and public perception contribute to these fluctuations. For instance, maize prices can vary dramatically based on the time of year and the region, impacting farmers' decisions on when and where to sell their produce. Additionally, public sentiment, as expressed on social media platforms like Twitter, can influence market dynamics, further complicating the decision-making process for stakeholders.\n"
   ]
  },
  {
   "cell_type": "markdown",
   "metadata": {},
   "source": [
    "### Main Objective\n",
    "Develop a comprehensive system that leverages advanced data science techniques to analyze and forecast commodity prices, monitor market trends, and incorporate sentiment analysis. This system aims to provide actionable insights to farmers, traders, and policymakers, enabling informed decisions and improving market efficiency and stability. Time series forecasting will be achieved through graphical analysis. Regression analysis and sentiment analysis will play critical roles in predicting commodity prices and understanding public sentiment, respectively, thereby enhancing the overall accuracy and relevance of market predictions.\n"
   ]
  },
  {
   "cell_type": "markdown",
   "metadata": {},
   "source": [
    "### Specific Objectives\n",
    "1.\tAssess Commodity Price Fluctuations\n",
    "\n",
    "- Evaluate the price volatility of various commodities across different regions and time periods\n",
    "- Identify the factors contributing to price fluctuations, such as seasonal variations, market demand, and public sentim\n",
    "\n",
    "2.\tAnalyze Market Trends:\n",
    "   \n",
    "- Monitor market trend s and patterns in commodity prices using historical data and advanced analytics.\n",
    "- Develop predictive models to forecast future market trends and price movements ent\n",
    "\n",
    "3.\tIncorporate Sentiment Analysis:\n",
    "\n",
    "- Leverage sentiment analysis on social media data, particularly from Twitter, to assess public perception of agricultural markets. \n",
    "- Develop machine learning models to quantify the relationship between sentiment trends and commodity price fluctuations, enabling more accurate market predictions."
   ]
  },
  {
   "cell_type": "markdown",
   "metadata": {},
   "source": [
    "### Success Metrics"
   ]
  },
  {
   "cell_type": "markdown",
   "metadata": {},
   "source": [
    "#### Forecasting Model Accuracy (Commodity Price Prediction)\n",
    "\n",
    "| Metric | Target Range | Ideal Goal | Comments                                      |\n",
    "|--------|--------------|------------|-----------------------------------------------|\n",
    "| MAE    | 5–20 KES     | < 10 KES   | Lower values indicate better predictions.     |\n",
    "| RMSE   | 10–30 KES    | < 15 KES   | Penalizes large errors more than MAE.         |\n",
    "| R²     | 0.70–0.95    | > 0.85     | Higher values mean better model fit.          |\n",
    "\n",
    "*Ideal Target:* MAE < 10 KES, RMSE < 15 KES, R² > 0.85  \n",
    "(If commodity prices vary widely, normalize error metrics based on average price ranges.)\n",
    "\n",
    "#### Sentiment Analysis Performance\n",
    "\n",
    "| Metric    | Target Range | Ideal Goal | Comments                                                  |\n",
    "|-----------|--------------|------------|-----------------------------------------------------------|\n",
    "| Precision | 70–95%       | > 85%      | Measures how many positive sentiment predictions were correct. |\n",
    "| Recall    | 65–90%       | > 80%      | Measures how well the model captures all positive sentiments.  |\n",
    "| F1-Score  | 75–90%       | > 85%      | Balances precision and recall.                             |\n",
    "\n",
    "*Ideal Target:* F1-Score > 85%, Precision & Recall > 80%"
   ]
  },
  {
   "cell_type": "markdown",
   "metadata": {},
   "source": [
    "## Data understanding\n"
   ]
  },
  {
   "cell_type": "markdown",
   "metadata": {},
   "source": [
    "The data used in this project originates from various sources, including historical commodity prices, geographical information, and sentiment data from social media platforms.\n",
    "\n",
    "1. The primary dataset contains Food Prices data for Kenya, sourced from the Kenya Agricultural Market Information System [KAMIS](https://kamis.kilimo.go.ke/site/market?product=153&per_page=10), developed by the Ministry of Agriculture, Livestock, Fisheries, and Cooperatives. This database covers foods such as maize, rice, beans, fish, and sugar,is updated weekly(though mostly contains monthly data). The platform offers data on commodity prices, trade volumes, and market highlights\n",
    "\n",
    "2. Geographical Information:\n",
    "\n",
    "-\tData on the location and characteristics of different agricultural markets in Kenya.\n",
    "-\tIncludes information on regional variations in market conditions and infrastructure.\n",
    "\n",
    "3. Sentiment Data from Social Media:\n",
    "    \n",
    "- Data collected from social media platforms like Twitter, capturing public sentiment related to agricultural markets.\n",
    "- Includes information on public perception, opinions,  and discussions about commodity prices and market dynamics.\n",
    "\n",
    "\n"
   ]
  },
  {
   "cell_type": "markdown",
   "metadata": {},
   "source": [
    "## Understanding rows and columns of our data"
   ]
  },
  {
   "cell_type": "markdown",
   "metadata": {},
   "source": []
  },
  {
   "cell_type": "code",
   "execution_count": 1,
   "metadata": {},
   "outputs": [
    {
     "ename": "ModuleNotFoundError",
     "evalue": "No module named 'visualization'",
     "output_type": "error",
     "traceback": [
      "\u001b[1;31m---------------------------------------------------------------------------\u001b[0m",
      "\u001b[1;31mModuleNotFoundError\u001b[0m                       Traceback (most recent call last)",
      "\u001b[1;32m<ipython-input-1-ef36e528daeb>\u001b[0m in \u001b[0;36m<module>\u001b[1;34m\u001b[0m\n\u001b[0;32m     12\u001b[0m \u001b[1;31m# importing custom scripts for different functions\u001b[0m\u001b[1;33m\u001b[0m\u001b[1;33m\u001b[0m\u001b[1;33m\u001b[0m\u001b[0m\n\u001b[0;32m     13\u001b[0m \u001b[0msys\u001b[0m\u001b[1;33m.\u001b[0m\u001b[0mpath\u001b[0m\u001b[1;33m.\u001b[0m\u001b[0mappend\u001b[0m\u001b[1;33m(\u001b[0m\u001b[1;34m'scripts'\u001b[0m\u001b[1;33m)\u001b[0m  \u001b[1;31m# add scripts to path\u001b[0m\u001b[1;33m\u001b[0m\u001b[1;33m\u001b[0m\u001b[0m\n\u001b[1;32m---> 14\u001b[1;33m \u001b[1;32mfrom\u001b[0m \u001b[0mvisualization\u001b[0m \u001b[1;32mimport\u001b[0m \u001b[1;33m*\u001b[0m\u001b[1;33m\u001b[0m\u001b[1;33m\u001b[0m\u001b[0m\n\u001b[0m\u001b[0;32m     15\u001b[0m \u001b[1;31m#from geolocate import geolocate_markets\u001b[0m\u001b[1;33m\u001b[0m\u001b[1;33m\u001b[0m\u001b[1;33m\u001b[0m\u001b[0m\n\u001b[0;32m     16\u001b[0m \u001b[1;31m#from scrape_kamis import scrape_kamis\u001b[0m\u001b[1;33m\u001b[0m\u001b[1;33m\u001b[0m\u001b[1;33m\u001b[0m\u001b[0m\n",
      "\u001b[1;31mModuleNotFoundError\u001b[0m: No module named 'visualization'"
     ]
    }
   ],
   "source": [
    "#importing necessary libraries\n",
    "import pandas as pd\n",
    "import glob\n",
    "import os\n",
    "#from geopy.geocoders import Nominatim\n",
    "import warnings\n",
    "import time\n",
    "import sys\n",
    "import matplotlib.pyplot as plt\n",
    "\n",
    "\n",
    "# importing custom scripts for different functions\n",
    "sys.path.append('scripts')  # add scripts to path\n",
    "from visualization import *\n",
    "#from geolocate import geolocate_markets\n",
    "#from scrape_kamis import scrape_kamis\n",
    "\n",
    "\n",
    "# Ignore warnings\n",
    "warnings.filterwarnings(\"ignore\")"
   ]
  },
  {
   "cell_type": "code",
   "execution_count": null,
   "metadata": {},
   "outputs": [
    {
     "data": {
      "text/html": [
       "<div>\n",
       "<style scoped>\n",
       "    .dataframe tbody tr th:only-of-type {\n",
       "        vertical-align: middle;\n",
       "    }\n",
       "\n",
       "    .dataframe tbody tr th {\n",
       "        vertical-align: top;\n",
       "    }\n",
       "\n",
       "    .dataframe thead th {\n",
       "        text-align: right;\n",
       "    }\n",
       "</style>\n",
       "<table border=\"1\" class=\"dataframe\">\n",
       "  <thead>\n",
       "    <tr style=\"text-align: right;\">\n",
       "      <th></th>\n",
       "      <th>date</th>\n",
       "      <th>admin1</th>\n",
       "      <th>admin2</th>\n",
       "      <th>market</th>\n",
       "      <th>latitude</th>\n",
       "      <th>longitude</th>\n",
       "      <th>category</th>\n",
       "      <th>commodity</th>\n",
       "      <th>unit</th>\n",
       "      <th>priceflag</th>\n",
       "      <th>pricetype</th>\n",
       "      <th>currency</th>\n",
       "      <th>price</th>\n",
       "      <th>usdprice</th>\n",
       "    </tr>\n",
       "  </thead>\n",
       "  <tbody>\n",
       "    <tr>\n",
       "      <th>0</th>\n",
       "      <td>#date</td>\n",
       "      <td>#adm1+name</td>\n",
       "      <td>#adm2+name</td>\n",
       "      <td>#loc+market+name</td>\n",
       "      <td>#geo+lat</td>\n",
       "      <td>#geo+lon</td>\n",
       "      <td>#item+type</td>\n",
       "      <td>#item+name</td>\n",
       "      <td>#item+unit</td>\n",
       "      <td>#item+price+flag</td>\n",
       "      <td>#item+price+type</td>\n",
       "      <td>#currency</td>\n",
       "      <td>#value</td>\n",
       "      <td>#value+usd</td>\n",
       "    </tr>\n",
       "    <tr>\n",
       "      <th>1</th>\n",
       "      <td>15/01/2006</td>\n",
       "      <td>Coast</td>\n",
       "      <td>Mombasa</td>\n",
       "      <td>Mombasa</td>\n",
       "      <td>-4.05</td>\n",
       "      <td>39.666667</td>\n",
       "      <td>cereals and tubers</td>\n",
       "      <td>Maize</td>\n",
       "      <td>KG</td>\n",
       "      <td>actual</td>\n",
       "      <td>Wholesale</td>\n",
       "      <td>KES</td>\n",
       "      <td>16.13</td>\n",
       "      <td>0.2235</td>\n",
       "    </tr>\n",
       "    <tr>\n",
       "      <th>2</th>\n",
       "      <td>15/01/2006</td>\n",
       "      <td>Coast</td>\n",
       "      <td>Mombasa</td>\n",
       "      <td>Mombasa</td>\n",
       "      <td>-4.05</td>\n",
       "      <td>39.666667</td>\n",
       "      <td>cereals and tubers</td>\n",
       "      <td>Maize (white)</td>\n",
       "      <td>90 KG</td>\n",
       "      <td>actual</td>\n",
       "      <td>Wholesale</td>\n",
       "      <td>KES</td>\n",
       "      <td>1480</td>\n",
       "      <td>20.5041</td>\n",
       "    </tr>\n",
       "    <tr>\n",
       "      <th>3</th>\n",
       "      <td>15/01/2006</td>\n",
       "      <td>Coast</td>\n",
       "      <td>Mombasa</td>\n",
       "      <td>Mombasa</td>\n",
       "      <td>-4.05</td>\n",
       "      <td>39.666667</td>\n",
       "      <td>pulses and nuts</td>\n",
       "      <td>Beans</td>\n",
       "      <td>KG</td>\n",
       "      <td>actual</td>\n",
       "      <td>Wholesale</td>\n",
       "      <td>KES</td>\n",
       "      <td>33.63</td>\n",
       "      <td>0.4659</td>\n",
       "    </tr>\n",
       "    <tr>\n",
       "      <th>4</th>\n",
       "      <td>15/01/2006</td>\n",
       "      <td>Coast</td>\n",
       "      <td>Mombasa</td>\n",
       "      <td>Mombasa</td>\n",
       "      <td>-4.05</td>\n",
       "      <td>39.666667</td>\n",
       "      <td>pulses and nuts</td>\n",
       "      <td>Beans (dry)</td>\n",
       "      <td>90 KG</td>\n",
       "      <td>actual</td>\n",
       "      <td>Wholesale</td>\n",
       "      <td>KES</td>\n",
       "      <td>3246</td>\n",
       "      <td>44.9705</td>\n",
       "    </tr>\n",
       "  </tbody>\n",
       "</table>\n",
       "</div>"
      ],
      "text/plain": [
       "         date      admin1      admin2            market  latitude  longitude  \\\n",
       "0       #date  #adm1+name  #adm2+name  #loc+market+name  #geo+lat   #geo+lon   \n",
       "1  15/01/2006       Coast     Mombasa           Mombasa     -4.05  39.666667   \n",
       "2  15/01/2006       Coast     Mombasa           Mombasa     -4.05  39.666667   \n",
       "3  15/01/2006       Coast     Mombasa           Mombasa     -4.05  39.666667   \n",
       "4  15/01/2006       Coast     Mombasa           Mombasa     -4.05  39.666667   \n",
       "\n",
       "             category      commodity        unit         priceflag  \\\n",
       "0          #item+type     #item+name  #item+unit  #item+price+flag   \n",
       "1  cereals and tubers          Maize          KG            actual   \n",
       "2  cereals and tubers  Maize (white)       90 KG            actual   \n",
       "3     pulses and nuts          Beans          KG            actual   \n",
       "4     pulses and nuts    Beans (dry)       90 KG            actual   \n",
       "\n",
       "          pricetype   currency   price    usdprice  \n",
       "0  #item+price+type  #currency  #value  #value+usd  \n",
       "1         Wholesale        KES   16.13      0.2235  \n",
       "2         Wholesale        KES    1480     20.5041  \n",
       "3         Wholesale        KES   33.63      0.4659  \n",
       "4         Wholesale        KES    3246     44.9705  "
      ]
     },
     "execution_count": 3,
     "metadata": {},
     "output_type": "execute_result"
    }
   ],
   "source": [
    "#load the data\n",
    "wfpdata = pd.read_csv('Data\\wfp_food_prices_ken.csv')\n",
    "wfpdata.head()"
   ]
  },
  {
   "cell_type": "code",
   "execution_count": null,
   "metadata": {},
   "outputs": [
    {
     "name": "stdout",
     "output_type": "stream",
     "text": [
      "<class 'pandas.core.frame.DataFrame'>\n",
      "RangeIndex: 12865 entries, 0 to 12864\n",
      "Data columns (total 14 columns):\n",
      " #   Column     Non-Null Count  Dtype \n",
      "---  ------     --------------  ----- \n",
      " 0   date       12865 non-null  object\n",
      " 1   admin1     12825 non-null  object\n",
      " 2   admin2     12825 non-null  object\n",
      " 3   market     12865 non-null  object\n",
      " 4   latitude   12825 non-null  object\n",
      " 5   longitude  12825 non-null  object\n",
      " 6   category   12865 non-null  object\n",
      " 7   commodity  12865 non-null  object\n",
      " 8   unit       12865 non-null  object\n",
      " 9   priceflag  12865 non-null  object\n",
      " 10  pricetype  12865 non-null  object\n",
      " 11  currency   12865 non-null  object\n",
      " 12  price      12865 non-null  object\n",
      " 13  usdprice   12865 non-null  object\n",
      "dtypes: object(14)\n",
      "memory usage: 1.4+ MB\n"
     ]
    }
   ],
   "source": [
    "#getting an overview and summary of dataframe\n",
    "wfpdata.info()"
   ]
  },
  {
   "cell_type": "markdown",
   "metadata": {},
   "source": [
    "From the above, it is found that the data has 12865 rows 14 columns of object datatype. "
   ]
  },
  {
   "cell_type": "code",
   "execution_count": null,
   "metadata": {},
   "outputs": [
    {
     "data": {
      "text/html": [
       "<div>\n",
       "<style scoped>\n",
       "    .dataframe tbody tr th:only-of-type {\n",
       "        vertical-align: middle;\n",
       "    }\n",
       "\n",
       "    .dataframe tbody tr th {\n",
       "        vertical-align: top;\n",
       "    }\n",
       "\n",
       "    .dataframe thead th {\n",
       "        text-align: right;\n",
       "    }\n",
       "</style>\n",
       "<table border=\"1\" class=\"dataframe\">\n",
       "  <thead>\n",
       "    <tr style=\"text-align: right;\">\n",
       "      <th></th>\n",
       "      <th>date</th>\n",
       "      <th>admin1</th>\n",
       "      <th>admin2</th>\n",
       "      <th>market</th>\n",
       "      <th>latitude</th>\n",
       "      <th>longitude</th>\n",
       "      <th>category</th>\n",
       "      <th>commodity</th>\n",
       "      <th>unit</th>\n",
       "      <th>priceflag</th>\n",
       "      <th>pricetype</th>\n",
       "      <th>currency</th>\n",
       "      <th>price</th>\n",
       "      <th>usdprice</th>\n",
       "    </tr>\n",
       "  </thead>\n",
       "  <tbody>\n",
       "    <tr>\n",
       "      <th>count</th>\n",
       "      <td>12865</td>\n",
       "      <td>12825</td>\n",
       "      <td>12825</td>\n",
       "      <td>12865</td>\n",
       "      <td>12825</td>\n",
       "      <td>12825</td>\n",
       "      <td>12865</td>\n",
       "      <td>12865</td>\n",
       "      <td>12865</td>\n",
       "      <td>12865</td>\n",
       "      <td>12865</td>\n",
       "      <td>12865</td>\n",
       "      <td>12865</td>\n",
       "      <td>12865</td>\n",
       "    </tr>\n",
       "    <tr>\n",
       "      <th>unique</th>\n",
       "      <td>229</td>\n",
       "      <td>8</td>\n",
       "      <td>22</td>\n",
       "      <td>63</td>\n",
       "      <td>62</td>\n",
       "      <td>62</td>\n",
       "      <td>9</td>\n",
       "      <td>48</td>\n",
       "      <td>14</td>\n",
       "      <td>3</td>\n",
       "      <td>3</td>\n",
       "      <td>2</td>\n",
       "      <td>5768</td>\n",
       "      <td>9408</td>\n",
       "    </tr>\n",
       "    <tr>\n",
       "      <th>top</th>\n",
       "      <td>15/04/2021</td>\n",
       "      <td>Rift Valley</td>\n",
       "      <td>Turkana</td>\n",
       "      <td>Nairobi</td>\n",
       "      <td>-1.283333</td>\n",
       "      <td>36.816667</td>\n",
       "      <td>cereals and tubers</td>\n",
       "      <td>Maize (white)</td>\n",
       "      <td>KG</td>\n",
       "      <td>actual</td>\n",
       "      <td>Retail</td>\n",
       "      <td>KES</td>\n",
       "      <td>10</td>\n",
       "      <td>0.4625</td>\n",
       "    </tr>\n",
       "    <tr>\n",
       "      <th>freq</th>\n",
       "      <td>429</td>\n",
       "      <td>5352</td>\n",
       "      <td>2722</td>\n",
       "      <td>1108</td>\n",
       "      <td>1108</td>\n",
       "      <td>1108</td>\n",
       "      <td>5803</td>\n",
       "      <td>1303</td>\n",
       "      <td>5785</td>\n",
       "      <td>8002</td>\n",
       "      <td>6458</td>\n",
       "      <td>12864</td>\n",
       "      <td>312</td>\n",
       "      <td>21</td>\n",
       "    </tr>\n",
       "  </tbody>\n",
       "</table>\n",
       "</div>"
      ],
      "text/plain": [
       "              date       admin1   admin2   market   latitude  longitude  \\\n",
       "count        12865        12825    12825    12865      12825      12825   \n",
       "unique         229            8       22       63         62         62   \n",
       "top     15/04/2021  Rift Valley  Turkana  Nairobi  -1.283333  36.816667   \n",
       "freq           429         5352     2722     1108       1108       1108   \n",
       "\n",
       "                  category      commodity   unit priceflag pricetype currency  \\\n",
       "count                12865          12865  12865     12865     12865    12865   \n",
       "unique                   9             48     14         3         3        2   \n",
       "top     cereals and tubers  Maize (white)     KG    actual    Retail      KES   \n",
       "freq                  5803           1303   5785      8002      6458    12864   \n",
       "\n",
       "        price usdprice  \n",
       "count   12865    12865  \n",
       "unique   5768     9408  \n",
       "top        10   0.4625  \n",
       "freq      312       21  "
      ]
     },
     "execution_count": 5,
     "metadata": {},
     "output_type": "execute_result"
    }
   ],
   "source": [
    "#getting descriptive statistics of df\n",
    "wfpdata.describe()"
   ]
  },
  {
   "cell_type": "markdown",
   "metadata": {},
   "source": [
    "The most common values in individual rows are displayed on the \"top\" column. Since all columns in the data are of object datatype, statistical information on the dataset cannot be displayed. \n"
   ]
  },
  {
   "cell_type": "code",
   "execution_count": null,
   "metadata": {},
   "outputs": [],
   "source": [
    "# url = 'https://kamis.kilimo.go.ke/site/market?product=73&per_page=50000'\n",
    "# scrape_kamis(url, 'Meat Beef.csv')\n"
   ]
  },
  {
   "cell_type": "markdown",
   "metadata": {},
   "source": []
  },
  {
   "cell_type": "markdown",
   "metadata": {},
   "source": [
    "From the KAMIS website, were able to scrap data about different commodities as seperate excel files(CSV). The code below identifies all CSV files in the directory using glob, then iterates through each file, reading its contents -into individual Pandas DataFrames. These DataFrames are stored in a list and later concatenated into a single DataFrame (combined_df).\n"
   ]
  },
  {
   "cell_type": "code",
   "execution_count": null,
   "metadata": {},
   "outputs": [
    {
     "data": {
      "text/html": [
       "<div>\n",
       "<style scoped>\n",
       "    .dataframe tbody tr th:only-of-type {\n",
       "        vertical-align: middle;\n",
       "    }\n",
       "\n",
       "    .dataframe tbody tr th {\n",
       "        vertical-align: top;\n",
       "    }\n",
       "\n",
       "    .dataframe thead th {\n",
       "        text-align: right;\n",
       "    }\n",
       "</style>\n",
       "<table border=\"1\" class=\"dataframe\">\n",
       "  <thead>\n",
       "    <tr style=\"text-align: right;\">\n",
       "      <th></th>\n",
       "      <th>Commodity</th>\n",
       "      <th>Classification</th>\n",
       "      <th>Grade</th>\n",
       "      <th>Sex</th>\n",
       "      <th>Market</th>\n",
       "      <th>Wholesale</th>\n",
       "      <th>Retail</th>\n",
       "      <th>Supply Volume</th>\n",
       "      <th>County</th>\n",
       "      <th>Date</th>\n",
       "    </tr>\n",
       "  </thead>\n",
       "  <tbody>\n",
       "    <tr>\n",
       "      <th>0</th>\n",
       "      <td>Meat Beef</td>\n",
       "      <td>-</td>\n",
       "      <td>-</td>\n",
       "      <td>-</td>\n",
       "      <td>Mbale</td>\n",
       "      <td>-</td>\n",
       "      <td>600.00/Kg</td>\n",
       "      <td>1200.0</td>\n",
       "      <td>Vihiga</td>\n",
       "      <td>2025-02-11</td>\n",
       "    </tr>\n",
       "    <tr>\n",
       "      <th>1</th>\n",
       "      <td>Meat Beef</td>\n",
       "      <td>-</td>\n",
       "      <td>-</td>\n",
       "      <td>-</td>\n",
       "      <td>Mbale</td>\n",
       "      <td>550.00/Kg</td>\n",
       "      <td>600.00/Kg</td>\n",
       "      <td>2000.0</td>\n",
       "      <td>Vihiga</td>\n",
       "      <td>2025-02-06</td>\n",
       "    </tr>\n",
       "    <tr>\n",
       "      <th>2</th>\n",
       "      <td>Meat Beef</td>\n",
       "      <td>-</td>\n",
       "      <td>-</td>\n",
       "      <td>-</td>\n",
       "      <td>Mbale</td>\n",
       "      <td>500.00/Kg</td>\n",
       "      <td>600.00/Kg</td>\n",
       "      <td>2000.0</td>\n",
       "      <td>Vihiga</td>\n",
       "      <td>2025-01-31</td>\n",
       "    </tr>\n",
       "    <tr>\n",
       "      <th>3</th>\n",
       "      <td>Meat Beef</td>\n",
       "      <td>-</td>\n",
       "      <td>-</td>\n",
       "      <td>-</td>\n",
       "      <td>Mbale</td>\n",
       "      <td>-</td>\n",
       "      <td>700.00/Kg</td>\n",
       "      <td>900.0</td>\n",
       "      <td>Vihiga</td>\n",
       "      <td>2025-01-28</td>\n",
       "    </tr>\n",
       "    <tr>\n",
       "      <th>4</th>\n",
       "      <td>Meat Beef</td>\n",
       "      <td>-</td>\n",
       "      <td>-</td>\n",
       "      <td>-</td>\n",
       "      <td>Mbale</td>\n",
       "      <td>-</td>\n",
       "      <td>500.00/Kg</td>\n",
       "      <td>700.0</td>\n",
       "      <td>Vihiga</td>\n",
       "      <td>2025-01-22</td>\n",
       "    </tr>\n",
       "    <tr>\n",
       "      <th>...</th>\n",
       "      <td>...</td>\n",
       "      <td>...</td>\n",
       "      <td>...</td>\n",
       "      <td>...</td>\n",
       "      <td>...</td>\n",
       "      <td>...</td>\n",
       "      <td>...</td>\n",
       "      <td>...</td>\n",
       "      <td>...</td>\n",
       "      <td>...</td>\n",
       "    </tr>\n",
       "    <tr>\n",
       "      <th>288473</th>\n",
       "      <td>Beans (Yellow-Green)</td>\n",
       "      <td>-</td>\n",
       "      <td>-</td>\n",
       "      <td>-</td>\n",
       "      <td>Gikomba</td>\n",
       "      <td>-</td>\n",
       "      <td>150.00/Kg</td>\n",
       "      <td>NaN</td>\n",
       "      <td>Nairobi</td>\n",
       "      <td>2021-05-24</td>\n",
       "    </tr>\n",
       "    <tr>\n",
       "      <th>288474</th>\n",
       "      <td>Beans (Yellow-Green)</td>\n",
       "      <td>-</td>\n",
       "      <td>-</td>\n",
       "      <td>-</td>\n",
       "      <td>Eldama Ravine</td>\n",
       "      <td>100.00/Kg</td>\n",
       "      <td>120.00/Kg</td>\n",
       "      <td>300.0</td>\n",
       "      <td>Baringo</td>\n",
       "      <td>2021-05-24</td>\n",
       "    </tr>\n",
       "    <tr>\n",
       "      <th>288475</th>\n",
       "      <td>Beans (Yellow-Green)</td>\n",
       "      <td>-</td>\n",
       "      <td>-</td>\n",
       "      <td>-</td>\n",
       "      <td>Kongowea</td>\n",
       "      <td>95.56/Kg</td>\n",
       "      <td>110.00/Kg</td>\n",
       "      <td>900.0</td>\n",
       "      <td>Mombasa</td>\n",
       "      <td>2021-05-24</td>\n",
       "    </tr>\n",
       "    <tr>\n",
       "      <th>288476</th>\n",
       "      <td>Beans (Yellow-Green)</td>\n",
       "      <td>-</td>\n",
       "      <td>-</td>\n",
       "      <td>-</td>\n",
       "      <td>Makutano West Pokot</td>\n",
       "      <td>140.00/Kg</td>\n",
       "      <td>200.00/Kg</td>\n",
       "      <td>NaN</td>\n",
       "      <td>West-Pokot</td>\n",
       "      <td>2021-05-24</td>\n",
       "    </tr>\n",
       "    <tr>\n",
       "      <th>288477</th>\n",
       "      <td>Beans (Yellow-Green)</td>\n",
       "      <td>-</td>\n",
       "      <td>-</td>\n",
       "      <td>-</td>\n",
       "      <td>Aram</td>\n",
       "      <td>124.40/Kg</td>\n",
       "      <td>133.30/Kg</td>\n",
       "      <td>600.0</td>\n",
       "      <td>Siaya</td>\n",
       "      <td>2021-05-24</td>\n",
       "    </tr>\n",
       "  </tbody>\n",
       "</table>\n",
       "<p>288478 rows × 10 columns</p>\n",
       "</div>"
      ],
      "text/plain": [
       "                   Commodity Classification Grade Sex               Market  \\\n",
       "0                  Meat Beef              -     -   -                Mbale   \n",
       "1                  Meat Beef              -     -   -                Mbale   \n",
       "2                  Meat Beef              -     -   -                Mbale   \n",
       "3                  Meat Beef              -     -   -                Mbale   \n",
       "4                  Meat Beef              -     -   -                Mbale   \n",
       "...                      ...            ...   ...  ..                  ...   \n",
       "288473  Beans (Yellow-Green)              -     -   -              Gikomba   \n",
       "288474  Beans (Yellow-Green)              -     -   -        Eldama Ravine   \n",
       "288475  Beans (Yellow-Green)              -     -   -             Kongowea   \n",
       "288476  Beans (Yellow-Green)              -     -   -  Makutano West Pokot   \n",
       "288477  Beans (Yellow-Green)              -     -   -                 Aram   \n",
       "\n",
       "        Wholesale     Retail  Supply Volume      County        Date  \n",
       "0               -  600.00/Kg         1200.0      Vihiga  2025-02-11  \n",
       "1       550.00/Kg  600.00/Kg         2000.0      Vihiga  2025-02-06  \n",
       "2       500.00/Kg  600.00/Kg         2000.0      Vihiga  2025-01-31  \n",
       "3               -  700.00/Kg          900.0      Vihiga  2025-01-28  \n",
       "4               -  500.00/Kg          700.0      Vihiga  2025-01-22  \n",
       "...           ...        ...            ...         ...         ...  \n",
       "288473          -  150.00/Kg            NaN     Nairobi  2021-05-24  \n",
       "288474  100.00/Kg  120.00/Kg          300.0     Baringo  2021-05-24  \n",
       "288475   95.56/Kg  110.00/Kg          900.0     Mombasa  2021-05-24  \n",
       "288476  140.00/Kg  200.00/Kg            NaN  West-Pokot  2021-05-24  \n",
       "288477  124.40/Kg  133.30/Kg          600.0       Siaya  2021-05-24  \n",
       "\n",
       "[288478 rows x 10 columns]"
      ]
     },
     "execution_count": 7,
     "metadata": {},
     "output_type": "execute_result"
    }
   ],
   "source": [
    "# Set the directory containing your CSV files\n",
    "csv_directory = \".\\\\Data\\\\Products\"  # Replace with the path to your directory\n",
    "\n",
    "# Use glob to match all CSV files in the directory\n",
    "csv_files = glob.glob(os.path.join(csv_directory, '*.csv'))\n",
    "\n",
    "# Initialize an empty list to hold DataFrames\n",
    "data_frames = []\n",
    "\n",
    "# Iterate over the list of CSV files\n",
    "for file in csv_files:\n",
    "    # Read each CSV file into a DataFrame\n",
    "    df = pd.read_csv(file)\n",
    "    # Append the DataFrame to the list\n",
    "    data_frames.append(df)\n",
    "\n",
    "# Concatenate all DataFrames in the list into a single DataFrame\n",
    "combined_df = pd.concat(data_frames, ignore_index=True)\n",
    "\n",
    "# printing part of the combined dataframe\n",
    "combined_df"
   ]
  },
  {
   "cell_type": "markdown",
   "metadata": {},
   "source": [
    "The combined dataframe encompanses different variety of foods over different markets in Kenya alongside their prices over a period of time. Their supply volume is also indicated. Combined, the dataframe spans 288478 rows and 10 columns. "
   ]
  },
  {
   "cell_type": "code",
   "execution_count": null,
   "metadata": {},
   "outputs": [
    {
     "name": "stdout",
     "output_type": "stream",
     "text": [
      "<class 'pandas.core.frame.DataFrame'>\n",
      "RangeIndex: 288478 entries, 0 to 288477\n",
      "Data columns (total 10 columns):\n",
      " #   Column          Non-Null Count   Dtype  \n",
      "---  ------          --------------   -----  \n",
      " 0   Commodity       288478 non-null  object \n",
      " 1   Classification  288478 non-null  object \n",
      " 2   Grade           288478 non-null  object \n",
      " 3   Sex             288478 non-null  object \n",
      " 4   Market          288478 non-null  object \n",
      " 5   Wholesale       288478 non-null  object \n",
      " 6   Retail          288478 non-null  object \n",
      " 7   Supply Volume   175498 non-null  float64\n",
      " 8   County          287917 non-null  object \n",
      " 9   Date            288478 non-null  object \n",
      "dtypes: float64(1), object(9)\n",
      "memory usage: 22.0+ MB\n"
     ]
    }
   ],
   "source": [
    "combined_df.info()"
   ]
  },
  {
   "cell_type": "markdown",
   "metadata": {},
   "source": [
    "The dataset contains 288,478 records and 10 columns. 9 columns contain text (object) datatype, 1 column (Supply Volume) contains numeric (float64) datatype. Supply Volume: Only 175,498 out of 288,478 rows have values. County: Almost complete, but 561 records have missing values. Other columns are fully populated, but some might contain placeholder values."
   ]
  },
  {
   "cell_type": "code",
   "execution_count": null,
   "metadata": {},
   "outputs": [
    {
     "data": {
      "text/html": [
       "<div>\n",
       "<style scoped>\n",
       "    .dataframe tbody tr th:only-of-type {\n",
       "        vertical-align: middle;\n",
       "    }\n",
       "\n",
       "    .dataframe tbody tr th {\n",
       "        vertical-align: top;\n",
       "    }\n",
       "\n",
       "    .dataframe thead th {\n",
       "        text-align: right;\n",
       "    }\n",
       "</style>\n",
       "<table border=\"1\" class=\"dataframe\">\n",
       "  <thead>\n",
       "    <tr style=\"text-align: right;\">\n",
       "      <th></th>\n",
       "      <th>Supply Volume</th>\n",
       "    </tr>\n",
       "  </thead>\n",
       "  <tbody>\n",
       "    <tr>\n",
       "      <th>count</th>\n",
       "      <td>1.754980e+05</td>\n",
       "    </tr>\n",
       "    <tr>\n",
       "      <th>mean</th>\n",
       "      <td>7.809961e+03</td>\n",
       "    </tr>\n",
       "    <tr>\n",
       "      <th>std</th>\n",
       "      <td>4.115118e+05</td>\n",
       "    </tr>\n",
       "    <tr>\n",
       "      <th>min</th>\n",
       "      <td>0.000000e+00</td>\n",
       "    </tr>\n",
       "    <tr>\n",
       "      <th>25%</th>\n",
       "      <td>5.000000e+02</td>\n",
       "    </tr>\n",
       "    <tr>\n",
       "      <th>50%</th>\n",
       "      <td>1.500000e+03</td>\n",
       "    </tr>\n",
       "    <tr>\n",
       "      <th>75%</th>\n",
       "      <td>4.300000e+03</td>\n",
       "    </tr>\n",
       "    <tr>\n",
       "      <th>max</th>\n",
       "      <td>1.000000e+08</td>\n",
       "    </tr>\n",
       "  </tbody>\n",
       "</table>\n",
       "</div>"
      ],
      "text/plain": [
       "       Supply Volume\n",
       "count   1.754980e+05\n",
       "mean    7.809961e+03\n",
       "std     4.115118e+05\n",
       "min     0.000000e+00\n",
       "25%     5.000000e+02\n",
       "50%     1.500000e+03\n",
       "75%     4.300000e+03\n",
       "max     1.000000e+08"
      ]
     },
     "execution_count": 9,
     "metadata": {},
     "output_type": "execute_result"
    }
   ],
   "source": [
    "combined_df.describe()"
   ]
  },
  {
   "cell_type": "markdown",
   "metadata": {},
   "source": [
    "The above indicates statistical description of the Supply Volume column in the dataset, since it is the only numerical column. "
   ]
  },
  {
   "cell_type": "markdown",
   "metadata": {},
   "source": [
    "## DATA CLEANING\n",
    "\n",
    "In data cleaning, we will ensure the dataset is accurate, relevant, consistent, complete, and uniform. This involves verifying data points against trusted sources, removing inaccuracies and outliers, filtering out irrelevant information that does not help in our analysis. We will also address inconsistent data formats, check naming conventions, ensuring a uniform structure across datasets, as well as identifying and filling null values to achieve completeness.\n",
    "These steps are vital in maintaining data quality."
   ]
  },
  {
   "cell_type": "code",
   "execution_count": null,
   "metadata": {},
   "outputs": [],
   "source": [
    "# Find latitudes and longitudes for markets\n",
    "# geolocate_markets(combined_df)\n"
   ]
  },
  {
   "cell_type": "markdown",
   "metadata": {},
   "source": [
    "The Geopy library was used to convert market names into coordinates while ensuring all locations are within Kenya. To optimize performance, it stores previously searched locations in a cache to avoid redundant API calls. The script iterates through the dataset, processes each market, and adds the coordinates to new columns in the DataFrame. Finally, it saves the updated data to a CSV file named \"combined_with_coordinates.csv\" for further analysis."
   ]
  },
  {
   "cell_type": "code",
   "execution_count": null,
   "metadata": {},
   "outputs": [],
   "source": [
    "# Loading the new combined dataset with coordinates\n",
    "products_df = pd.read_csv('.\\\\Data\\\\combined_with_coordinates.csv')"
   ]
  },
  {
   "cell_type": "code",
   "execution_count": null,
   "metadata": {},
   "outputs": [
    {
     "name": "stdout",
     "output_type": "stream",
     "text": [
      "<class 'pandas.core.frame.DataFrame'>\n",
      "RangeIndex: 288478 entries, 0 to 288477\n",
      "Data columns (total 12 columns):\n",
      " #   Column          Non-Null Count   Dtype  \n",
      "---  ------          --------------   -----  \n",
      " 0   Commodity       288478 non-null  object \n",
      " 1   Classification  288478 non-null  object \n",
      " 2   Grade           288478 non-null  object \n",
      " 3   Sex             288478 non-null  object \n",
      " 4   Market          288478 non-null  object \n",
      " 5   Wholesale       288478 non-null  object \n",
      " 6   Retail          288478 non-null  object \n",
      " 7   Supply Volume   175498 non-null  float64\n",
      " 8   County          287917 non-null  object \n",
      " 9   Date            288478 non-null  object \n",
      " 10  latitude        199401 non-null  float64\n",
      " 11  longitude       199401 non-null  float64\n",
      "dtypes: float64(3), object(9)\n",
      "memory usage: 26.4+ MB\n"
     ]
    }
   ],
   "source": [
    "# Looking at the data's info\n",
    "products_df.info()"
   ]
  },
  {
   "cell_type": "markdown",
   "metadata": {},
   "source": [
    "From the above, there are 12 rows and 288478 columns, with some columns having missing values. All columns are of object datatype except the longitude, latitude, and supply volume."
   ]
  },
  {
   "cell_type": "code",
   "execution_count": null,
   "metadata": {},
   "outputs": [
    {
     "data": {
      "text/html": [
       "<div>\n",
       "<style scoped>\n",
       "    .dataframe tbody tr th:only-of-type {\n",
       "        vertical-align: middle;\n",
       "    }\n",
       "\n",
       "    .dataframe tbody tr th {\n",
       "        vertical-align: top;\n",
       "    }\n",
       "\n",
       "    .dataframe thead th {\n",
       "        text-align: right;\n",
       "    }\n",
       "</style>\n",
       "<table border=\"1\" class=\"dataframe\">\n",
       "  <thead>\n",
       "    <tr style=\"text-align: right;\">\n",
       "      <th></th>\n",
       "      <th>Supply Volume</th>\n",
       "      <th>latitude</th>\n",
       "      <th>longitude</th>\n",
       "    </tr>\n",
       "  </thead>\n",
       "  <tbody>\n",
       "    <tr>\n",
       "      <th>count</th>\n",
       "      <td>1.754980e+05</td>\n",
       "      <td>199401.000000</td>\n",
       "      <td>199401.000000</td>\n",
       "    </tr>\n",
       "    <tr>\n",
       "      <th>mean</th>\n",
       "      <td>7.809961e+03</td>\n",
       "      <td>-0.686573</td>\n",
       "      <td>36.237790</td>\n",
       "    </tr>\n",
       "    <tr>\n",
       "      <th>std</th>\n",
       "      <td>4.115118e+05</td>\n",
       "      <td>1.435692</td>\n",
       "      <td>1.794955</td>\n",
       "    </tr>\n",
       "    <tr>\n",
       "      <th>min</th>\n",
       "      <td>0.000000e+00</td>\n",
       "      <td>-4.622956</td>\n",
       "      <td>34.138607</td>\n",
       "    </tr>\n",
       "    <tr>\n",
       "      <th>25%</th>\n",
       "      <td>5.000000e+02</td>\n",
       "      <td>-1.166037</td>\n",
       "      <td>34.763182</td>\n",
       "    </tr>\n",
       "    <tr>\n",
       "      <th>50%</th>\n",
       "      <td>1.500000e+03</td>\n",
       "      <td>-0.274214</td>\n",
       "      <td>35.834422</td>\n",
       "    </tr>\n",
       "    <tr>\n",
       "      <th>75%</th>\n",
       "      <td>4.300000e+03</td>\n",
       "      <td>0.129513</td>\n",
       "      <td>37.250000</td>\n",
       "    </tr>\n",
       "    <tr>\n",
       "      <th>max</th>\n",
       "      <td>1.000000e+08</td>\n",
       "      <td>3.709823</td>\n",
       "      <td>55.454533</td>\n",
       "    </tr>\n",
       "  </tbody>\n",
       "</table>\n",
       "</div>"
      ],
      "text/plain": [
       "       Supply Volume       latitude      longitude\n",
       "count   1.754980e+05  199401.000000  199401.000000\n",
       "mean    7.809961e+03      -0.686573      36.237790\n",
       "std     4.115118e+05       1.435692       1.794955\n",
       "min     0.000000e+00      -4.622956      34.138607\n",
       "25%     5.000000e+02      -1.166037      34.763182\n",
       "50%     1.500000e+03      -0.274214      35.834422\n",
       "75%     4.300000e+03       0.129513      37.250000\n",
       "max     1.000000e+08       3.709823      55.454533"
      ]
     },
     "execution_count": 13,
     "metadata": {},
     "output_type": "execute_result"
    }
   ],
   "source": [
    "# Finding statistical description of numerical columns in the dataset\n",
    "products_df.describe()"
   ]
  },
  {
   "cell_type": "markdown",
   "metadata": {},
   "source": [
    "A commodity category mapping should be created to classify different commodities into broader food categories like vegetables and fruits, cereals and tubers, pulses and nuts, meat, fish and eggs, and milk and dairy. The mapping ensures consistency when analyzing or visualizing data. Using the .map() function, each commodity in the products_df DataFrame is assigned its respective category based on the dictionary. This step is crucial for easier aggregation, comparison, and trend analysis of different commodity groups in the dataset."
   ]
  },
  {
   "cell_type": "code",
   "execution_count": null,
   "metadata": {},
   "outputs": [
    {
     "data": {
      "text/plain": [
       "array(['-', 'White Maize', 'Mixed-Traditional', 'Yellow Maize', 'IRR',\n",
       "       'Dola', 'Jembe', 'Hostess', 'Equatorial afya ugali', 'Ajab',\n",
       "       'Amaize', '210(two ten)', 'Ugali Afya', 'Taifa', 'Soko',\n",
       "       'Raha Premium', 'Pembe', 'Oryx', 'Ndovu', 'Mama', 'Jogoo wimbi',\n",
       "       'Jogoo', 'Tajiri maize meal', 'Kifaru', 'Cosmo', 'Shujaa',\n",
       "       'Posho Mill', 'Jimbi', 'Unga afya', 'Canna', 'Jamii',\n",
       "       'Organic (cassava, sorghum &maize)', 'Twiga',\n",
       "       'Organic (maize&cassava flour)',\n",
       "       'Organic ( millet, sorghum & maize flour )', 'Kiki maize meal',\n",
       "       'Supreme', 'Dried', 'Fried', 'Fresh', 'Fillet', 'Sindano',\n",
       "       'Pishori'], dtype=object)"
      ]
     },
     "execution_count": 14,
     "metadata": {},
     "output_type": "execute_result"
    }
   ],
   "source": [
    "# Finding unique classifications on the products dataframe\n",
    "products_df['Classification'].unique()"
   ]
  },
  {
   "cell_type": "code",
   "execution_count": null,
   "metadata": {},
   "outputs": [
    {
     "data": {
      "text/html": [
       "<div>\n",
       "<style scoped>\n",
       "    .dataframe tbody tr th:only-of-type {\n",
       "        vertical-align: middle;\n",
       "    }\n",
       "\n",
       "    .dataframe tbody tr th {\n",
       "        vertical-align: top;\n",
       "    }\n",
       "\n",
       "    .dataframe thead th {\n",
       "        text-align: right;\n",
       "    }\n",
       "</style>\n",
       "<table border=\"1\" class=\"dataframe\">\n",
       "  <thead>\n",
       "    <tr style=\"text-align: right;\">\n",
       "      <th></th>\n",
       "      <th>Commodity</th>\n",
       "      <th>Classification</th>\n",
       "      <th>Grade</th>\n",
       "      <th>Sex</th>\n",
       "      <th>Market</th>\n",
       "      <th>Wholesale</th>\n",
       "      <th>Retail</th>\n",
       "      <th>Supply Volume</th>\n",
       "      <th>County</th>\n",
       "      <th>Date</th>\n",
       "      <th>latitude</th>\n",
       "      <th>longitude</th>\n",
       "      <th>Category</th>\n",
       "    </tr>\n",
       "  </thead>\n",
       "  <tbody>\n",
       "    <tr>\n",
       "      <th>0</th>\n",
       "      <td>Meat Beef</td>\n",
       "      <td>-</td>\n",
       "      <td>-</td>\n",
       "      <td>-</td>\n",
       "      <td>Mbale</td>\n",
       "      <td>-</td>\n",
       "      <td>600.00/Kg</td>\n",
       "      <td>1200.0</td>\n",
       "      <td>Vihiga</td>\n",
       "      <td>2025-02-11</td>\n",
       "      <td>0.083501</td>\n",
       "      <td>34.720326</td>\n",
       "      <td>meat, fish and eggs</td>\n",
       "    </tr>\n",
       "    <tr>\n",
       "      <th>1</th>\n",
       "      <td>Meat Beef</td>\n",
       "      <td>-</td>\n",
       "      <td>-</td>\n",
       "      <td>-</td>\n",
       "      <td>Mbale</td>\n",
       "      <td>550.00/Kg</td>\n",
       "      <td>600.00/Kg</td>\n",
       "      <td>2000.0</td>\n",
       "      <td>Vihiga</td>\n",
       "      <td>2025-02-06</td>\n",
       "      <td>0.083501</td>\n",
       "      <td>34.720326</td>\n",
       "      <td>meat, fish and eggs</td>\n",
       "    </tr>\n",
       "    <tr>\n",
       "      <th>2</th>\n",
       "      <td>Meat Beef</td>\n",
       "      <td>-</td>\n",
       "      <td>-</td>\n",
       "      <td>-</td>\n",
       "      <td>Mbale</td>\n",
       "      <td>500.00/Kg</td>\n",
       "      <td>600.00/Kg</td>\n",
       "      <td>2000.0</td>\n",
       "      <td>Vihiga</td>\n",
       "      <td>2025-01-31</td>\n",
       "      <td>0.083501</td>\n",
       "      <td>34.720326</td>\n",
       "      <td>meat, fish and eggs</td>\n",
       "    </tr>\n",
       "    <tr>\n",
       "      <th>3</th>\n",
       "      <td>Meat Beef</td>\n",
       "      <td>-</td>\n",
       "      <td>-</td>\n",
       "      <td>-</td>\n",
       "      <td>Mbale</td>\n",
       "      <td>-</td>\n",
       "      <td>700.00/Kg</td>\n",
       "      <td>900.0</td>\n",
       "      <td>Vihiga</td>\n",
       "      <td>2025-01-28</td>\n",
       "      <td>0.083501</td>\n",
       "      <td>34.720326</td>\n",
       "      <td>meat, fish and eggs</td>\n",
       "    </tr>\n",
       "    <tr>\n",
       "      <th>4</th>\n",
       "      <td>Meat Beef</td>\n",
       "      <td>-</td>\n",
       "      <td>-</td>\n",
       "      <td>-</td>\n",
       "      <td>Mbale</td>\n",
       "      <td>-</td>\n",
       "      <td>500.00/Kg</td>\n",
       "      <td>700.0</td>\n",
       "      <td>Vihiga</td>\n",
       "      <td>2025-01-22</td>\n",
       "      <td>0.083501</td>\n",
       "      <td>34.720326</td>\n",
       "      <td>meat, fish and eggs</td>\n",
       "    </tr>\n",
       "  </tbody>\n",
       "</table>\n",
       "</div>"
      ],
      "text/plain": [
       "   Commodity Classification Grade Sex Market  Wholesale     Retail  \\\n",
       "0  Meat Beef              -     -   -  Mbale          -  600.00/Kg   \n",
       "1  Meat Beef              -     -   -  Mbale  550.00/Kg  600.00/Kg   \n",
       "2  Meat Beef              -     -   -  Mbale  500.00/Kg  600.00/Kg   \n",
       "3  Meat Beef              -     -   -  Mbale          -  700.00/Kg   \n",
       "4  Meat Beef              -     -   -  Mbale          -  500.00/Kg   \n",
       "\n",
       "   Supply Volume  County        Date  latitude  longitude             Category  \n",
       "0         1200.0  Vihiga  2025-02-11  0.083501  34.720326  meat, fish and eggs  \n",
       "1         2000.0  Vihiga  2025-02-06  0.083501  34.720326  meat, fish and eggs  \n",
       "2         2000.0  Vihiga  2025-01-31  0.083501  34.720326  meat, fish and eggs  \n",
       "3          900.0  Vihiga  2025-01-28  0.083501  34.720326  meat, fish and eggs  \n",
       "4          700.0  Vihiga  2025-01-22  0.083501  34.720326  meat, fish and eggs  "
      ]
     },
     "execution_count": 15,
     "metadata": {},
     "output_type": "execute_result"
    }
   ],
   "source": [
    "# Commodity categories mapping\n",
    "commodity_category_mapping = {\n",
    "    'Meat Beef': 'meat, fish and eggs',\n",
    "    'Cabbages': 'vegetables and fruits',\n",
    "    'Banana (Cooking)': 'vegetables and fruits',\n",
    "    'Cowpea leaves (Kunde)': 'vegetables and fruits',\n",
    "    'Cowpeas': 'pulses and nuts',\n",
    "    'Dry Onions': 'vegetables and fruits',\n",
    "    'Dry Maize': 'cereals and tubers',\n",
    "    'Finger Millet': 'cereals and tubers',\n",
    "    'Maize Flour': 'cereals and tubers',\n",
    "    'Kales/Sukuma Wiki': 'vegetables and fruits',\n",
    "    'Omena': 'meat, fish and eggs',\n",
    "    'Red Irish potato': 'cereals and tubers',\n",
    "    'Cow Milk(Processd)': 'milk and dairy',\n",
    "    'Beans Red Haricot (Wairimu)': 'pulses and nuts',\n",
    "    'Red Sorghum': 'cereals and tubers',\n",
    "    'Rice': 'cereals and tubers',\n",
    "    'Banana (Ripening)': 'vegetables and fruits',\n",
    "    'Spinach': 'vegetables and fruits',\n",
    "    'Wheat': 'cereals and tubers',\n",
    "    'Beans (Yellow-Green)': 'pulses and nuts'\n",
    "}\n",
    "# Map commodities to categories\n",
    "products_df['Category'] = products_df['Commodity'].map(commodity_category_mapping)\n",
    "\n",
    "# Display the updated DataFrame\n",
    "products_df.head()"
   ]
  },
  {
   "cell_type": "markdown",
   "metadata": {},
   "source": [
    "From analysis, the 'Sex' amd 'Grade' column are not necessary for our assessment, and hence should be dropped"
   ]
  },
  {
   "cell_type": "code",
   "execution_count": null,
   "metadata": {},
   "outputs": [],
   "source": [
    "products_df.drop(columns= ['Sex','Grade'], inplace=True,axis=1)"
   ]
  },
  {
   "cell_type": "code",
   "execution_count": null,
   "metadata": {},
   "outputs": [
    {
     "data": {
      "text/html": [
       "<div>\n",
       "<style scoped>\n",
       "    .dataframe tbody tr th:only-of-type {\n",
       "        vertical-align: middle;\n",
       "    }\n",
       "\n",
       "    .dataframe tbody tr th {\n",
       "        vertical-align: top;\n",
       "    }\n",
       "\n",
       "    .dataframe thead th {\n",
       "        text-align: right;\n",
       "    }\n",
       "</style>\n",
       "<table border=\"1\" class=\"dataframe\">\n",
       "  <thead>\n",
       "    <tr style=\"text-align: right;\">\n",
       "      <th></th>\n",
       "      <th>Commodity</th>\n",
       "      <th>Classification</th>\n",
       "      <th>Market</th>\n",
       "      <th>Wholesale</th>\n",
       "      <th>Retail</th>\n",
       "      <th>Supply Volume</th>\n",
       "      <th>County</th>\n",
       "      <th>Date</th>\n",
       "      <th>latitude</th>\n",
       "      <th>longitude</th>\n",
       "      <th>Category</th>\n",
       "    </tr>\n",
       "  </thead>\n",
       "  <tbody>\n",
       "    <tr>\n",
       "      <th>0</th>\n",
       "      <td>Meat Beef</td>\n",
       "      <td>-</td>\n",
       "      <td>Mbale</td>\n",
       "      <td>-</td>\n",
       "      <td>600.00/Kg</td>\n",
       "      <td>1200.0</td>\n",
       "      <td>Vihiga</td>\n",
       "      <td>2025-02-11</td>\n",
       "      <td>0.083501</td>\n",
       "      <td>34.720326</td>\n",
       "      <td>meat, fish and eggs</td>\n",
       "    </tr>\n",
       "    <tr>\n",
       "      <th>1</th>\n",
       "      <td>Meat Beef</td>\n",
       "      <td>-</td>\n",
       "      <td>Mbale</td>\n",
       "      <td>550.00/Kg</td>\n",
       "      <td>600.00/Kg</td>\n",
       "      <td>2000.0</td>\n",
       "      <td>Vihiga</td>\n",
       "      <td>2025-02-06</td>\n",
       "      <td>0.083501</td>\n",
       "      <td>34.720326</td>\n",
       "      <td>meat, fish and eggs</td>\n",
       "    </tr>\n",
       "    <tr>\n",
       "      <th>2</th>\n",
       "      <td>Meat Beef</td>\n",
       "      <td>-</td>\n",
       "      <td>Mbale</td>\n",
       "      <td>500.00/Kg</td>\n",
       "      <td>600.00/Kg</td>\n",
       "      <td>2000.0</td>\n",
       "      <td>Vihiga</td>\n",
       "      <td>2025-01-31</td>\n",
       "      <td>0.083501</td>\n",
       "      <td>34.720326</td>\n",
       "      <td>meat, fish and eggs</td>\n",
       "    </tr>\n",
       "    <tr>\n",
       "      <th>3</th>\n",
       "      <td>Meat Beef</td>\n",
       "      <td>-</td>\n",
       "      <td>Mbale</td>\n",
       "      <td>-</td>\n",
       "      <td>700.00/Kg</td>\n",
       "      <td>900.0</td>\n",
       "      <td>Vihiga</td>\n",
       "      <td>2025-01-28</td>\n",
       "      <td>0.083501</td>\n",
       "      <td>34.720326</td>\n",
       "      <td>meat, fish and eggs</td>\n",
       "    </tr>\n",
       "    <tr>\n",
       "      <th>4</th>\n",
       "      <td>Meat Beef</td>\n",
       "      <td>-</td>\n",
       "      <td>Mbale</td>\n",
       "      <td>-</td>\n",
       "      <td>500.00/Kg</td>\n",
       "      <td>700.0</td>\n",
       "      <td>Vihiga</td>\n",
       "      <td>2025-01-22</td>\n",
       "      <td>0.083501</td>\n",
       "      <td>34.720326</td>\n",
       "      <td>meat, fish and eggs</td>\n",
       "    </tr>\n",
       "  </tbody>\n",
       "</table>\n",
       "</div>"
      ],
      "text/plain": [
       "   Commodity Classification Market  Wholesale     Retail  Supply Volume  \\\n",
       "0  Meat Beef              -  Mbale          -  600.00/Kg         1200.0   \n",
       "1  Meat Beef              -  Mbale  550.00/Kg  600.00/Kg         2000.0   \n",
       "2  Meat Beef              -  Mbale  500.00/Kg  600.00/Kg         2000.0   \n",
       "3  Meat Beef              -  Mbale          -  700.00/Kg          900.0   \n",
       "4  Meat Beef              -  Mbale          -  500.00/Kg          700.0   \n",
       "\n",
       "   County        Date  latitude  longitude             Category  \n",
       "0  Vihiga  2025-02-11  0.083501  34.720326  meat, fish and eggs  \n",
       "1  Vihiga  2025-02-06  0.083501  34.720326  meat, fish and eggs  \n",
       "2  Vihiga  2025-01-31  0.083501  34.720326  meat, fish and eggs  \n",
       "3  Vihiga  2025-01-28  0.083501  34.720326  meat, fish and eggs  \n",
       "4  Vihiga  2025-01-22  0.083501  34.720326  meat, fish and eggs  "
      ]
     },
     "execution_count": 17,
     "metadata": {},
     "output_type": "execute_result"
    }
   ],
   "source": [
    "# Confirming they have been dropped\n",
    "products_df.head()"
   ]
  },
  {
   "cell_type": "code",
   "execution_count": null,
   "metadata": {},
   "outputs": [
    {
     "name": "stdout",
     "output_type": "stream",
     "text": [
      "percentage of nulls \n",
      " Commodity          0.000000\n",
      "Classification     0.000000\n",
      "Market             0.000000\n",
      "Wholesale          0.000000\n",
      "Retail             0.000000\n",
      "Supply Volume     39.164165\n",
      "County             0.194469\n",
      "Date               0.000000\n",
      "latitude          30.878265\n",
      "longitude         30.878265\n",
      "Category           0.000000\n",
      "dtype: float64\n"
     ]
    }
   ],
   "source": [
    "#Handling missing values\n",
    "#Checking for nulls\n",
    "nan_percent = (products_df.isna().sum() / len(products_df))*100 # total percent of missing values per column\n",
    "print(\"percentage of nulls\",\"\\n\", nan_percent)"
   ]
  },
  {
   "cell_type": "code",
   "execution_count": null,
   "metadata": {},
   "outputs": [
    {
     "data": {
      "image/png": "[encoded data removed]",
      "text/plain": [
       "<Figure size 432x288 with 1 Axes>"
      ]
     },
     "metadata": {
      "needs_background": "light"
     },
     "output_type": "display_data"
    }
   ],
   "source": [
    "import seaborn as sns\n",
    "import matplotlib.pyplot as plt\n",
    "sns.boxplot(y=products_df['Supply Volume'], color='skyblue').set(title='Box Plot of Supply Volume', ylabel='Supply Volume')\n",
    "plt.show();"
   ]
  },
  {
   "cell_type": "markdown",
   "metadata": {},
   "source": [
    "Since Supply Volume column has the highest count of missing values, we decided to investigate its distribution since its numerical.From our findings, we concluded that the distribution is skewed and decided to impute the missing values with the median."
   ]
  },
  {
   "cell_type": "code",
   "execution_count": null,
   "metadata": {},
   "outputs": [
    {
     "data": {
      "text/plain": [
       "2000.0     7565\n",
       "1000.0     6863\n",
       "500.0      5772\n",
       "1500.0     5577\n",
       "5000.0     5444\n",
       "           ... \n",
       "317.0         1\n",
       "1296.0        1\n",
       "4064.0        1\n",
       "56870.0       1\n",
       "1817.0        1\n",
       "Name: Supply Volume, Length: 2503, dtype: int64"
      ]
     },
     "execution_count": 20,
     "metadata": {},
     "output_type": "execute_result"
    }
   ],
   "source": [
    "products_df['Supply Volume'].value_counts()"
   ]
  },
  {
   "cell_type": "code",
   "execution_count": null,
   "metadata": {},
   "outputs": [
    {
     "data": {
      "text/plain": [
       "False    287946\n",
       "True        532\n",
       "Name: Supply Volume, dtype: int64"
      ]
     },
     "execution_count": 21,
     "metadata": {},
     "output_type": "execute_result"
    }
   ],
   "source": [
    "supply_count=products_df['Supply Volume'] > 1e+05\n",
    "supply_count.value_counts()"
   ]
  },
  {
   "cell_type": "code",
   "execution_count": null,
   "metadata": {},
   "outputs": [],
   "source": [
    "#products_df['Supply Volume']=products_df['Supply Volume'] > 1e+05\n",
    "products_df.drop(products_df[products_df['Supply Volume'] > 1e+05].index, inplace=True)"
   ]
  },
  {
   "cell_type": "code",
   "execution_count": null,
   "metadata": {},
   "outputs": [
    {
     "data": {
      "text/plain": [
       "False    287946\n",
       "Name: Supply Volume, dtype: int64"
      ]
     },
     "execution_count": 23,
     "metadata": {},
     "output_type": "execute_result"
    }
   ],
   "source": [
    "#products_df['Supply Volume'] > 1e+05\n",
    "supply_count1=products_df['Supply Volume'] > 1e+05\n",
    "supply_count1.value_counts()"
   ]
  },
  {
   "cell_type": "code",
   "execution_count": null,
   "metadata": {},
   "outputs": [
    {
     "data": {
      "image/png": "[encoded data removed]",
      "text/plain": [
       "<Figure size 576x432 with 1 Axes>"
      ]
     },
     "metadata": {
      "needs_background": "light"
     },
     "output_type": "display_data"
    }
   ],
   "source": [
    "# Plotting boxplot of supply volume to check for outliers\n",
    "plot_boxplot(products_df, 'Supply Volume')\n"
   ]
  },
  {
   "cell_type": "code",
   "execution_count": null,
   "metadata": {},
   "outputs": [
    {
     "data": {
      "image/png": "[encoded data removed]",
      "text/plain": [
       "<Figure size 576x360 with 1 Axes>"
      ]
     },
     "metadata": {
      "needs_background": "light"
     },
     "output_type": "display_data"
    }
   ],
   "source": [
    "# Plotting histogram of supply volume to check for outliers\n",
    "from scripts.visualization import plot_histogram\n",
    "\n",
    "\n",
    "plot_histogram(products_df, 'Supply Volume')\n"
   ]
  },
  {
   "cell_type": "code",
   "execution_count": null,
   "metadata": {},
   "outputs": [],
   "source": [
    "products_df['Supply Volume']=products_df['Supply Volume'].fillna(products_df['Supply Volume'].median())"
   ]
  },
  {
   "cell_type": "code",
   "execution_count": null,
   "metadata": {},
   "outputs": [
    {
     "name": "stdout",
     "output_type": "stream",
     "text": [
      "percentage of nulls \n",
      " Commodity          0.000000\n",
      "Classification     0.000000\n",
      "Market             0.000000\n",
      "Wholesale          0.000000\n",
      "Retail             0.000000\n",
      "Supply Volume      0.000000\n",
      "County             0.193439\n",
      "Date               0.000000\n",
      "latitude          30.917255\n",
      "longitude         30.917255\n",
      "Category           0.000000\n",
      "dtype: float64\n"
     ]
    }
   ],
   "source": [
    "nan_percent = (products_df.isna().sum() / len(products_df))*100 # total percent of missing values per column\n",
    "print(\"percentage of nulls\",\"\\n\", nan_percent)"
   ]
  },
  {
   "cell_type": "markdown",
   "metadata": {},
   "source": [
    "Checked for any missing values in the Products dataset and found 4 columns had mising values. They include: Supply volume-39%, Latitude and Longitude at 31% each and County had 0.2%."
   ]
  },
  {
   "cell_type": "code",
   "execution_count": null,
   "metadata": {},
   "outputs": [],
   "source": [
    "products_df=products_df.dropna(axis=0).reset_index()"
   ]
  },
  {
   "cell_type": "code",
   "execution_count": null,
   "metadata": {},
   "outputs": [
    {
     "name": "stdout",
     "output_type": "stream",
     "text": [
      "percentage of nulls \n",
      " index             0.0\n",
      "Commodity         0.0\n",
      "Classification    0.0\n",
      "Market            0.0\n",
      "Wholesale         0.0\n",
      "Retail            0.0\n",
      "Supply Volume     0.0\n",
      "County            0.0\n",
      "Date              0.0\n",
      "latitude          0.0\n",
      "longitude         0.0\n",
      "Category          0.0\n",
      "dtype: float64\n"
     ]
    }
   ],
   "source": [
    "nan_percent = (products_df.isna().sum() / len(products_df))*100 # total percent of missing values per column\n",
    "print(\"percentage of nulls\",\"\\n\", nan_percent)"
   ]
  },
  {
   "cell_type": "code",
   "execution_count": null,
   "metadata": {},
   "outputs": [
    {
     "name": "stdout",
     "output_type": "stream",
     "text": [
      "<class 'pandas.core.frame.DataFrame'>\n",
      "RangeIndex: 198921 entries, 0 to 198920\n",
      "Data columns (total 12 columns):\n",
      " #   Column          Non-Null Count   Dtype  \n",
      "---  ------          --------------   -----  \n",
      " 0   index           198921 non-null  int64  \n",
      " 1   Commodity       198921 non-null  object \n",
      " 2   Classification  198921 non-null  object \n",
      " 3   Market          198921 non-null  object \n",
      " 4   Wholesale       198921 non-null  object \n",
      " 5   Retail          198921 non-null  object \n",
      " 6   Supply Volume   198921 non-null  float64\n",
      " 7   County          198921 non-null  object \n",
      " 8   Date            198921 non-null  object \n",
      " 9   latitude        198921 non-null  float64\n",
      " 10  longitude       198921 non-null  float64\n",
      " 11  Category        198921 non-null  object \n",
      "dtypes: float64(3), int64(1), object(8)\n",
      "memory usage: 18.2+ MB\n"
     ]
    }
   ],
   "source": [
    "products_df.info()"
   ]
  },
  {
   "cell_type": "code",
   "execution_count": null,
   "metadata": {},
   "outputs": [
    {
     "data": {
      "text/plain": [
       "False    198921\n",
       "dtype: int64"
      ]
     },
     "execution_count": 31,
     "metadata": {},
     "output_type": "execute_result"
    }
   ],
   "source": [
    "#Check for duplicates\n",
    "products_df.duplicated().value_counts()"
   ]
  },
  {
   "cell_type": "markdown",
   "metadata": {},
   "source": [
    "Checked for any duplicated records on the dataset and found None.\n",
    "\n",
    "Next thing to be done is to change the 'Date' column into date-time format for easier analysis of trends. "
   ]
  },
  {
   "cell_type": "code",
   "execution_count": null,
   "metadata": {},
   "outputs": [
    {
     "name": "stdout",
     "output_type": "stream",
     "text": [
      "<class 'pandas.core.frame.DataFrame'>\n",
      "RangeIndex: 198921 entries, 0 to 198920\n",
      "Data columns (total 13 columns):\n",
      " #   Column          Non-Null Count   Dtype         \n",
      "---  ------          --------------   -----         \n",
      " 0   index           198921 non-null  int64         \n",
      " 1   Commodity       198921 non-null  object        \n",
      " 2   Classification  198921 non-null  object        \n",
      " 3   Market          198921 non-null  object        \n",
      " 4   Wholesale       198921 non-null  object        \n",
      " 5   Retail          198921 non-null  object        \n",
      " 6   Supply Volume   198921 non-null  float64       \n",
      " 7   County          198921 non-null  object        \n",
      " 8   Date            198921 non-null  object        \n",
      " 9   latitude        198921 non-null  float64       \n",
      " 10  longitude       198921 non-null  float64       \n",
      " 11  Category        198921 non-null  object        \n",
      " 12  date_column     198921 non-null  datetime64[ns]\n",
      "dtypes: datetime64[ns](1), float64(3), int64(1), object(8)\n",
      "memory usage: 19.7+ MB\n"
     ]
    }
   ],
   "source": [
    "# Changing Date column into date time format\n",
    "products_df['date_column'] = pd.to_datetime(products_df['Date'])\n",
    "# Checking to ensure changes have reflected\n",
    "products_df.info()"
   ]
  },
  {
   "cell_type": "markdown",
   "metadata": {},
   "source": [
    "We are supposed to change the retail and wholesale prices into float values. However, each is attached to a unit of measurement, for example,maize measured in kilograms and milk measured in litres. The units will be seperated from the prices, added to another column, and the prices converted to float64 format. "
   ]
  },
  {
   "cell_type": "code",
   "execution_count": null,
   "metadata": {},
   "outputs": [],
   "source": [
    "# Extract the numeric values and units\n",
    "products_df['Unit'] = products_df['Retail'].str.extract(r'([a-zA-Z/-]+)')  # Extract unit\n",
    "products_df['Retail'] = products_df['Retail'].str.extract(r'([\\d.]+)').astype(float)  # Extract number\n",
    "\n",
    "products_df['Wholesale'] = products_df['Wholesale'].str.extract(r'([\\d.]+)').astype(float)  # Extract number"
   ]
  },
  {
   "cell_type": "code",
   "execution_count": null,
   "metadata": {},
   "outputs": [
    {
     "data": {
      "text/html": [
       "<div>\n",
       "<style scoped>\n",
       "    .dataframe tbody tr th:only-of-type {\n",
       "        vertical-align: middle;\n",
       "    }\n",
       "\n",
       "    .dataframe tbody tr th {\n",
       "        vertical-align: top;\n",
       "    }\n",
       "\n",
       "    .dataframe thead th {\n",
       "        text-align: right;\n",
       "    }\n",
       "</style>\n",
       "<table border=\"1\" class=\"dataframe\">\n",
       "  <thead>\n",
       "    <tr style=\"text-align: right;\">\n",
       "      <th></th>\n",
       "      <th>index</th>\n",
       "      <th>Commodity</th>\n",
       "      <th>Classification</th>\n",
       "      <th>Market</th>\n",
       "      <th>Wholesale</th>\n",
       "      <th>Retail</th>\n",
       "      <th>Supply Volume</th>\n",
       "      <th>County</th>\n",
       "      <th>Date</th>\n",
       "      <th>latitude</th>\n",
       "      <th>longitude</th>\n",
       "      <th>Category</th>\n",
       "      <th>date_column</th>\n",
       "      <th>Unit</th>\n",
       "    </tr>\n",
       "  </thead>\n",
       "  <tbody>\n",
       "    <tr>\n",
       "      <th>0</th>\n",
       "      <td>0</td>\n",
       "      <td>Meat Beef</td>\n",
       "      <td>-</td>\n",
       "      <td>Mbale</td>\n",
       "      <td>NaN</td>\n",
       "      <td>600.0</td>\n",
       "      <td>1200.0</td>\n",
       "      <td>Vihiga</td>\n",
       "      <td>2025-02-11</td>\n",
       "      <td>0.083501</td>\n",
       "      <td>34.720326</td>\n",
       "      <td>meat, fish and eggs</td>\n",
       "      <td>2025-02-11</td>\n",
       "      <td>/Kg</td>\n",
       "    </tr>\n",
       "    <tr>\n",
       "      <th>1</th>\n",
       "      <td>1</td>\n",
       "      <td>Meat Beef</td>\n",
       "      <td>-</td>\n",
       "      <td>Mbale</td>\n",
       "      <td>550.0</td>\n",
       "      <td>600.0</td>\n",
       "      <td>2000.0</td>\n",
       "      <td>Vihiga</td>\n",
       "      <td>2025-02-06</td>\n",
       "      <td>0.083501</td>\n",
       "      <td>34.720326</td>\n",
       "      <td>meat, fish and eggs</td>\n",
       "      <td>2025-02-06</td>\n",
       "      <td>/Kg</td>\n",
       "    </tr>\n",
       "    <tr>\n",
       "      <th>2</th>\n",
       "      <td>2</td>\n",
       "      <td>Meat Beef</td>\n",
       "      <td>-</td>\n",
       "      <td>Mbale</td>\n",
       "      <td>500.0</td>\n",
       "      <td>600.0</td>\n",
       "      <td>2000.0</td>\n",
       "      <td>Vihiga</td>\n",
       "      <td>2025-01-31</td>\n",
       "      <td>0.083501</td>\n",
       "      <td>34.720326</td>\n",
       "      <td>meat, fish and eggs</td>\n",
       "      <td>2025-01-31</td>\n",
       "      <td>/Kg</td>\n",
       "    </tr>\n",
       "    <tr>\n",
       "      <th>3</th>\n",
       "      <td>3</td>\n",
       "      <td>Meat Beef</td>\n",
       "      <td>-</td>\n",
       "      <td>Mbale</td>\n",
       "      <td>NaN</td>\n",
       "      <td>700.0</td>\n",
       "      <td>900.0</td>\n",
       "      <td>Vihiga</td>\n",
       "      <td>2025-01-28</td>\n",
       "      <td>0.083501</td>\n",
       "      <td>34.720326</td>\n",
       "      <td>meat, fish and eggs</td>\n",
       "      <td>2025-01-28</td>\n",
       "      <td>/Kg</td>\n",
       "    </tr>\n",
       "    <tr>\n",
       "      <th>4</th>\n",
       "      <td>4</td>\n",
       "      <td>Meat Beef</td>\n",
       "      <td>-</td>\n",
       "      <td>Mbale</td>\n",
       "      <td>NaN</td>\n",
       "      <td>500.0</td>\n",
       "      <td>700.0</td>\n",
       "      <td>Vihiga</td>\n",
       "      <td>2025-01-22</td>\n",
       "      <td>0.083501</td>\n",
       "      <td>34.720326</td>\n",
       "      <td>meat, fish and eggs</td>\n",
       "      <td>2025-01-22</td>\n",
       "      <td>/Kg</td>\n",
       "    </tr>\n",
       "  </tbody>\n",
       "</table>\n",
       "</div>"
      ],
      "text/plain": [
       "   index  Commodity Classification Market  Wholesale  Retail  Supply Volume  \\\n",
       "0      0  Meat Beef              -  Mbale        NaN   600.0         1200.0   \n",
       "1      1  Meat Beef              -  Mbale      550.0   600.0         2000.0   \n",
       "2      2  Meat Beef              -  Mbale      500.0   600.0         2000.0   \n",
       "3      3  Meat Beef              -  Mbale        NaN   700.0          900.0   \n",
       "4      4  Meat Beef              -  Mbale        NaN   500.0          700.0   \n",
       "\n",
       "   County        Date  latitude  longitude             Category date_column  \\\n",
       "0  Vihiga  2025-02-11  0.083501  34.720326  meat, fish and eggs  2025-02-11   \n",
       "1  Vihiga  2025-02-06  0.083501  34.720326  meat, fish and eggs  2025-02-06   \n",
       "2  Vihiga  2025-01-31  0.083501  34.720326  meat, fish and eggs  2025-01-31   \n",
       "3  Vihiga  2025-01-28  0.083501  34.720326  meat, fish and eggs  2025-01-28   \n",
       "4  Vihiga  2025-01-22  0.083501  34.720326  meat, fish and eggs  2025-01-22   \n",
       "\n",
       "  Unit  \n",
       "0  /Kg  \n",
       "1  /Kg  \n",
       "2  /Kg  \n",
       "3  /Kg  \n",
       "4  /Kg  "
      ]
     },
     "execution_count": 35,
     "metadata": {},
     "output_type": "execute_result"
    }
   ],
   "source": [
    "# Checking if changes have been effected\n",
    "products_df.head()"
   ]
  },
  {
   "cell_type": "markdown",
   "metadata": {},
   "source": [
    "From the above, changes have been effected and units have been moved to a new column called 'Retail_units'"
   ]
  },
  {
   "cell_type": "code",
   "execution_count": null,
   "metadata": {},
   "outputs": [
    {
     "name": "stdout",
     "output_type": "stream",
     "text": [
      "<class 'pandas.core.frame.DataFrame'>\n",
      "RangeIndex: 198921 entries, 0 to 198920\n",
      "Data columns (total 14 columns):\n",
      " #   Column          Non-Null Count   Dtype         \n",
      "---  ------          --------------   -----         \n",
      " 0   index           198921 non-null  int64         \n",
      " 1   Commodity       198921 non-null  object        \n",
      " 2   Classification  198921 non-null  object        \n",
      " 3   Market          198921 non-null  object        \n",
      " 4   Wholesale       169491 non-null  float64       \n",
      " 5   Retail          157772 non-null  float64       \n",
      " 6   Supply Volume   198921 non-null  float64       \n",
      " 7   County          198921 non-null  object        \n",
      " 8   Date            198921 non-null  object        \n",
      " 9   latitude        198921 non-null  float64       \n",
      " 10  longitude       198921 non-null  float64       \n",
      " 11  Category        198921 non-null  object        \n",
      " 12  date_column     198921 non-null  datetime64[ns]\n",
      " 13  Unit            198921 non-null  object        \n",
      "dtypes: datetime64[ns](1), float64(5), int64(1), object(7)\n",
      "memory usage: 21.2+ MB\n"
     ]
    }
   ],
   "source": [
    "# Checking if datatypes have been updated\n",
    "products_df.info()"
   ]
  },
  {
   "cell_type": "markdown",
   "metadata": {},
   "source": [
    "All datatypes have been changed successfully. "
   ]
  },
  {
   "cell_type": "markdown",
   "metadata": {},
   "source": [
    "There are null values in the retail and wholesale columns of the data. "
   ]
  },
  {
   "cell_type": "code",
   "execution_count": null,
   "metadata": {},
   "outputs": [
    {
     "name": "stdout",
     "output_type": "stream",
     "text": [
      "                             Wholesale  Retail\n",
      "Commodity                                     \n",
      "Banana (Cooking)                     0    2965\n",
      "Banana (Ripening)                    0     784\n",
      "Beans (Yellow-Green)              1652     135\n",
      "Beans Red Haricot (Wairimu)        258      50\n",
      "Cabbages                          1693    4098\n",
      "Cow Milk(Processd)                 510       7\n",
      "Cowpea leaves (Kunde)             1256      30\n",
      "Cowpeas                           1204    3587\n",
      "Dry Maize                         1693    4349\n",
      "Dry Onions                        1637    4166\n",
      "Finger Millet                     1357    4156\n",
      "Kales/Sukuma Wiki                 1626    3973\n",
      "Maize Flour                       9931      17\n",
      "Meat Beef                         2194      29\n",
      "Omena                             1411      24\n",
      "Red Irish potato                   814    8024\n",
      "Red Sorghum                        215    3736\n",
      "Rice                               550     109\n",
      "Spinach                           1057      70\n",
      "Wheat                              372     840\n"
     ]
    }
   ],
   "source": [
    "# Finding the number of null values in the wholesale and retail columns of our data\n",
    "null_counts = products_df.groupby('Commodity').apply(lambda x: x.isnull().sum())\n",
    "\n",
    "print(null_counts[['Wholesale', 'Retail']])  # Adjust columns as needed"
   ]
  },
  {
   "cell_type": "markdown",
   "metadata": {},
   "source": [
    "Since there is need to avoid loss of any more data, it is imparative that imputation is used. However each product has its distinct price and it would be inaccurate to impute the mean or mode of the whole column in the data series. Therefore, for missing values, the mode of each commodity will be used to impute all the commodity's missing values"
   ]
  },
  {
   "cell_type": "code",
   "execution_count": null,
   "metadata": {},
   "outputs": [
    {
     "name": "stdout",
     "output_type": "stream",
     "text": [
      "Cabbages                       21274\n",
      "Dry Maize                      20366\n",
      "Dry Onions                     20121\n",
      "Red Irish potato               18716\n",
      "Kales/Sukuma Wiki              18045\n",
      "Maize Flour                    12534\n",
      "Finger Millet                  12364\n",
      "Beans (Yellow-Green)           11348\n",
      "Cowpeas                        10851\n",
      "Spinach                         9653\n",
      "Omena                           6762\n",
      "Cowpea leaves (Kunde)           6539\n",
      "Rice                            6231\n",
      "Red Sorghum                     5868\n",
      "Meat Beef                       5236\n",
      "Beans Red Haricot (Wairimu)     3339\n",
      "Wheat                           3216\n",
      "Banana (Cooking)                2965\n",
      "Cow Milk(Processd)              2709\n",
      "Banana (Ripening)                784\n",
      "Name: Commodity, dtype: int64\n"
     ]
    }
   ],
   "source": [
    "# Checking the number values in the dataset\n",
    "print(products_df['Commodity'].value_counts())"
   ]
  },
  {
   "cell_type": "markdown",
   "metadata": {},
   "source": [
    "It is therefore important to calculate the median of each commodity then impute them. To ensure the mode for each commodity is different, they have been printed out below:"
   ]
  },
  {
   "cell_type": "code",
   "execution_count": null,
   "metadata": {},
   "outputs": [
    {
     "name": "stdout",
     "output_type": "stream",
     "text": [
      "                              Retail  Wholesale\n",
      "Commodity                                      \n",
      "Banana (Cooking)                 NaN      13.64\n",
      "Banana (Ripening)                NaN      17.86\n",
      "Beans (Yellow-Green)         150.000     127.78\n",
      "Beans Red Haricot (Wairimu)  100.000      80.00\n",
      "Cabbages                      30.000      20.00\n",
      "Cow Milk(Processd)           120.000     105.00\n",
      "Cowpea leaves (Kunde)         55.000      38.00\n",
      "Cowpeas                      130.000      80.00\n",
      "Dry Maize                     60.000      38.89\n",
      "Dry Onions                    92.310      60.00\n",
      "Finger Millet                125.000      85.00\n",
      "Kales/Sukuma Wiki             40.000      24.00\n",
      "Maize Flour                   89.500      85.42\n",
      "Meat Beef                    500.000     400.00\n",
      "Omena                        308.805     200.00\n",
      "Red Irish potato              50.000      30.00\n",
      "Red Sorghum                   60.000      36.00\n",
      "Rice                         125.000     100.00\n",
      "Spinach                       50.000      35.00\n",
      "Wheat                         90.000      55.56\n"
     ]
    }
   ],
   "source": [
    "# Compute median values for each commodity\n",
    "commodity_medians = products_df.groupby('Commodity')[['Retail', 'Wholesale']].median()\n",
    "\n",
    "# Print median values before imputing\n",
    "print(commodity_medians)\n",
    "\n",
    "# Function to impute missing values with median\n",
    "def impute_with_median(row):\n",
    "    if pd.isna(row['Retail']):\n",
    "        row['Retail'] = commodity_medians.loc[row['Commodity'], 'Retail']\n",
    "    if pd.isna(row['Wholesale']):\n",
    "        row['Wholesale'] = commodity_medians.loc[row['Commodity'], 'Wholesale']\n",
    "    return row\n",
    "\n",
    "# Apply imputation\n",
    "products_df = products_df.apply(impute_with_median, axis=1)\n"
   ]
  },
  {
   "cell_type": "markdown",
   "metadata": {},
   "source": [
    "After imputation, it is important to confirm that there are no more null values"
   ]
  },
  {
   "cell_type": "code",
   "execution_count": null,
   "metadata": {},
   "outputs": [
    {
     "name": "stdout",
     "output_type": "stream",
     "text": [
      "                             Wholesale  Retail\n",
      "Commodity                                     \n",
      "Banana (Cooking)                     0    2965\n",
      "Banana (Ripening)                    0     784\n",
      "Beans (Yellow-Green)                 0       0\n",
      "Beans Red Haricot (Wairimu)          0       0\n",
      "Cabbages                             0       0\n",
      "Cow Milk(Processd)                   0       0\n",
      "Cowpea leaves (Kunde)                0       0\n",
      "Cowpeas                              0       0\n",
      "Dry Maize                            0       0\n",
      "Dry Onions                           0       0\n",
      "Finger Millet                        0       0\n",
      "Kales/Sukuma Wiki                    0       0\n",
      "Maize Flour                          0       0\n",
      "Meat Beef                            0       0\n",
      "Omena                                0       0\n",
      "Red Irish potato                     0       0\n",
      "Red Sorghum                          0       0\n",
      "Rice                                 0       0\n",
      "Spinach                              0       0\n",
      "Wheat                                0       0\n"
     ]
    }
   ],
   "source": [
    "# counting null values per commodity\n",
    "null_counts = products_df.groupby('Commodity').apply(lambda x: x.isnull().sum())\n",
    "\n",
    "print(null_counts[['Wholesale', 'Retail']])  # Adjust columns as needed"
   ]
  },
  {
   "cell_type": "markdown",
   "metadata": {},
   "source": [
    "Apart from bananas, both cooked and ripening, all commodity null values have been imputed with the commodity mode. However Bananas, both cooked and ripened still have null values because they lack any values in them. "
   ]
  },
  {
   "cell_type": "code",
   "execution_count": null,
   "metadata": {},
   "outputs": [
    {
     "name": "stdout",
     "output_type": "stream",
     "text": [
      "index                0\n",
      "Commodity            0\n",
      "Classification       0\n",
      "Market               0\n",
      "Wholesale            0\n",
      "Retail            3749\n",
      "Supply Volume        0\n",
      "County               0\n",
      "Date                 0\n",
      "latitude             0\n",
      "longitude            0\n",
      "Category             0\n",
      "date_column          0\n",
      "Unit                 0\n",
      "dtype: int64\n"
     ]
    }
   ],
   "source": [
    "# Finding the number of null values in the wholesale and retail columns of our data\n",
    "null_counts = products_df.apply(lambda x: x.isnull().sum())\n",
    "\n",
    "print(null_counts)"
   ]
  },
  {
   "cell_type": "code",
   "execution_count": null,
   "metadata": {},
   "outputs": [],
   "source": [
    "products_df.drop(products_df[products_df['Commodity'].isin(['Banana (Cooking)', 'Banana (Ripening)'])].index, inplace=True)"
   ]
  },
  {
   "cell_type": "code",
   "execution_count": null,
   "metadata": {},
   "outputs": [
    {
     "data": {
      "text/plain": [
       "(195172, 14)"
      ]
     },
     "execution_count": 43,
     "metadata": {},
     "output_type": "execute_result"
    }
   ],
   "source": [
    "products_df.shape"
   ]
  },
  {
   "cell_type": "code",
   "execution_count": null,
   "metadata": {},
   "outputs": [
    {
     "name": "stdout",
     "output_type": "stream",
     "text": [
      "index             0\n",
      "Commodity         0\n",
      "Classification    0\n",
      "Market            0\n",
      "Wholesale         0\n",
      "Retail            0\n",
      "Supply Volume     0\n",
      "County            0\n",
      "Date              0\n",
      "latitude          0\n",
      "longitude         0\n",
      "Category          0\n",
      "date_column       0\n",
      "Unit              0\n",
      "dtype: int64\n"
     ]
    }
   ],
   "source": [
    " #Finding the number of null values in the wholesale and retail columns of our data\n",
    "null_counts = products_df.apply(lambda x: x.isnull().sum())\n",
    "\n",
    "print(null_counts)"
   ]
  },
  {
   "cell_type": "code",
   "execution_count": null,
   "metadata": {},
   "outputs": [
    {
     "data": {
      "image/png": "[encoded data removed]",
      "text/plain": [
       "<Figure size 864x432 with 2 Axes>"
      ]
     },
     "metadata": {
      "needs_background": "light"
     },
     "output_type": "display_data"
    }
   ],
   "source": [
    "\n",
    "# Aggregate supply volume and average retail price per commodity\n",
    "commodity_stats = products_df.groupby('Commodity').agg({'Supply Volume': 'sum', 'Retail': 'mean'}).sort_values('Supply Volume')\n",
    "\n",
    "# Plot supply volume as bars and retail price as a line\n",
    "fig, ax1 = plt.subplots(figsize=(12, 6))\n",
    "\n",
    "# Bar plot for supply volume\n",
    "commodity_stats['Supply Volume'].plot(kind='bar', color='royalblue', edgecolor='black', ax=ax1)\n",
    "ax1.set_ylabel(\"Total Supply Volume\", fontsize=12, color='royalblue')\n",
    "ax1.set_xlabel(\"Commodity\", fontsize=12)\n",
    "ax1.tick_params(axis='y', labelcolor='royalblue')\n",
    "ax1.set_xticklabels(commodity_stats.index, rotation=90)\n",
    "\n",
    "# Line plot for average retail price\n",
    "ax2 = ax1.twinx()\n",
    "commodity_stats['Retail'].plot(kind='line', color='crimson', marker='o', ax=ax2)\n",
    "ax2.set_ylabel(\"Average Retail Price\", fontsize=12, color='crimson')\n",
    "ax2.tick_params(axis='y', labelcolor='crimson')\n",
    "\n",
    "# Titles and grid\n",
    "plt.title(\"Supply Volume vs. Average Retail Price per Commodity\", fontsize=14)\n",
    "ax1.grid(axis='y', linestyle='--', alpha=0.7)\n",
    "\n",
    "plt.show()"
   ]
  },
  {
   "cell_type": "code",
   "execution_count": null,
   "metadata": {},
   "outputs": [
    {
     "data": {
      "image/png": "[encoded data removed]",
      "text/plain": [
       "<Figure size 864x432 with 1 Axes>"
      ]
     },
     "metadata": {
      "needs_background": "light"
     },
     "output_type": "display_data"
    }
   ],
   "source": [
    "\n",
    "# Calculate the markup percentage\n",
    "products_df['Markup %'] = ((products_df['Retail'] - products_df['Wholesale']) / products_df['Wholesale']) * 100\n",
    "\n",
    "# Aggregate average markup percentage per commodity\n",
    "commodity_markup = products_df.groupby('Commodity')['Markup %'].mean().sort_values(ascending=False)\n",
    "\n",
    "# Plot markup percentage\n",
    "plt.figure(figsize=(12, 6))\n",
    "commodity_markup.plot(kind='bar', color='darkgreen', edgecolor='black')\n",
    "\n",
    "plt.title(\"Average Markup Percentage per Commodity\", fontsize=14)\n",
    "plt.xlabel(\"Commodity\", fontsize=12)\n",
    "plt.ylabel(\"Markup %\", fontsize=12)\n",
    "plt.xticks(rotation=90)\n",
    "plt.grid(axis='y', linestyle='--', alpha=0.7)\n",
    "\n",
    "plt.show()"
   ]
  },
  {
   "cell_type": "code",
   "execution_count": null,
   "metadata": {},
   "outputs": [
    {
     "data": {
      "image/png": "[encoded data removed]",
      "text/plain": [
       "<Figure size 864x432 with 1 Axes>"
      ]
     },
     "metadata": {
      "needs_background": "light"
     },
     "output_type": "display_data"
    }
   ],
   "source": [
    "# Convert the 'Date' column to datetime format if not already done\n",
    "products_df['Date'] = pd.to_datetime(products_df['Date'])\n",
    "\n",
    "# Group by date and calculate the total retail price\n",
    "total_price_over_time = products_df.groupby('Date')['Retail'].sum()\n",
    "# Calculate the rolling sum to smooth out the time series data\n",
    "total_price_over_time = total_price_over_time.rolling(window=30).sum()\n",
    "# Plot the total price over time\n",
    "plt.figure(figsize=(12, 6))\n",
    "total_price_over_time.plot(kind='line', color='blue')\n",
    "\n",
    "plt.title(\"Total Price of Commodities Over Time\", fontsize=14)\n",
    "plt.xlabel(\"Date\", fontsize=12)\n",
    "plt.ylabel(\"Total Retail Price\", fontsize=12)\n",
    "plt.grid(True)\n",
    "plt.show()"
   ]
  },
  {
   "cell_type": "markdown",
   "metadata": {},
   "source": []
  }
 ],
 "metadata": {
  "kernelspec": {
   "display_name": "learn-env",
   "language": "python",
   "name": "python3"
  },
  "language_info": {
   "codemirror_mode": {
    "name": "ipython",
    "version": 3
   },
   "file_extension": ".py",
   "mimetype": "text/x-python",
   "name": "python",
   "nbconvert_exporter": "python",
   "pygments_lexer": "ipython3",
   "version": "3.8.5"
  }
 },
 "nbformat": 4,
 "nbformat_minor": 5
}
